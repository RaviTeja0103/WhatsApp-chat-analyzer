{
 "cells": [
  {
   "cell_type": "markdown",
   "metadata": {},
   "source": [
    "# Modules"
   ]
  },
  {
   "cell_type": "code",
   "execution_count": 2,
   "metadata": {},
   "outputs": [],
   "source": [
    "import re\n",
    "import pandas as pd\n",
    "import matplotlib.pyplot as plt\n",
    "import emojis"
   ]
  },
  {
   "cell_type": "markdown",
   "metadata": {},
   "source": [
    "# Preprocessing"
   ]
  },
  {
   "cell_type": "code",
   "execution_count": 3,
   "metadata": {},
   "outputs": [],
   "source": [
    "def istime(s):\n",
    "    pattern = '^([0-9]+)/([0-9]+)/([0-9]+), ([0-9]+):([0-9]+)[ ]?' \n",
    "    result = re.match(pattern, s)\n",
    "    if result:\n",
    "        return True\n",
    "    return False\n",
    "\n",
    "def isNotif(m):\n",
    "    if len(m.split(\": \")) >=2:\n",
    "        return True\n",
    "    return False\n",
    "\n",
    "def get_slice_data(s):\n",
    "    Line = s.split(' - ') \n",
    "    dateTime = Line[0]\n",
    "    date, time = dateTime.split(', ') \n",
    "    message = ' '.join(Line[1:])\n",
    "    if isNotif(message):\n",
    "        splitMessage = message.split(':') \n",
    "        name = splitMessage[0] \n",
    "        message = ' '.join(splitMessage[1:])\n",
    "    else:\n",
    "        name = \"Notifications\"\n",
    "        \n",
    "\n",
    "    return date, time, name, message\n"
   ]
  },
  {
   "cell_type": "code",
   "execution_count": 13,
   "metadata": {},
   "outputs": [],
   "source": [
    "raw_data = open(\"test.txt\",\"r\")\n",
    "raw_data = raw_data.read().replace(\"\\u202f\", \" \").split(\"\\n\")\n",
    "\n",
    "lindata= []\n",
    "buff = \"\"\n",
    "\n",
    "for lin in raw_data:\n",
    "    if istime(lin):\n",
    "        lindata.append(buff)\n",
    "        buff = \"\"\n",
    "    buff += lin\n",
    "    #print(istime(lin))\n",
    "\n",
    "lindata = lindata[1:]\n",
    "#lindata"
   ]
  },
  {
   "cell_type": "code",
   "execution_count": 14,
   "metadata": {},
   "outputs": [
    {
     "name": "stderr",
     "output_type": "stream",
     "text": [
      "C:\\Users\\Ravi teja\\AppData\\Local\\Temp\\ipykernel_16844\\2367315515.py:15: UserWarning: Could not infer format, so each element will be parsed individually, falling back to `dateutil`. To ensure parsing is consistent and as-expected, please specify a format.\n",
      "  df[\"Date\"] = pd.to_datetime(df[\"Date\"])\n"
     ]
    }
   ],
   "source": [
    "data=dict()\n",
    "data[\"Date\"] = []\n",
    "data[\"Time\"] = []\n",
    "data[\"Name\"] = []\n",
    "data[\"Message\"] = []\n",
    "\n",
    "for lin in lindata:\n",
    "    date, time, name, message = get_slice_data(lin)\n",
    "    data[\"Date\"].append(date)\n",
    "    data[\"Time\"].append(time)\n",
    "    data[\"Name\"].append(name)\n",
    "    data[\"Message\"].append(message)\n",
    "#data\n",
    "df = pd.DataFrame(data,columns=['Date', 'Time', 'Name', 'Message'])\n",
    "df[\"Date\"] = pd.to_datetime(df[\"Date\"])\n",
    "#df[100:200]\n",
    "    "
   ]
  },
  {
   "cell_type": "code",
   "execution_count": 15,
   "metadata": {},
   "outputs": [
    {
     "data": {
      "text/plain": [
       "['Abhay', 'praneeth', 'Ram Raj', 'Ravi Varma', 'Vamsi', 'Ravi Teja', 'Teja']"
      ]
     },
     "execution_count": 15,
     "metadata": {},
     "output_type": "execute_result"
    }
   ],
   "source": [
    "people = list(set(data[\"Name\"]))\n",
    "people.pop(people.index(\"Notifications\"))\n",
    "people"
   ]
  },
  {
   "cell_type": "code",
   "execution_count": 27,
   "metadata": {},
   "outputs": [
    {
     "data": {
      "text/plain": [
       "<BarContainer object of 7 artists>"
      ]
     },
     "execution_count": 27,
     "metadata": {},
     "output_type": "execute_result"
    },
    {
     "data": {
      "image/png": "[encoded data removed]",
      "text/plain": [
       "<Figure size 640x480 with 1 Axes>"
      ]
     },
     "metadata": {},
     "output_type": "display_data"
    }
   ],
   "source": [
    "x=people\n",
    "y=[]\n",
    "for i in x:\n",
    "    y.append(df[df[\"Name\"] == i].shape[0])\n",
    "plt.bar(x,y)\n",
    "#plt.pie(y)"
   ]
  },
  {
   "cell_type": "code",
   "execution_count": null,
   "metadata": {},
   "outputs": [],
   "source": []
  }
 ],
 "metadata": {
  "kernelspec": {
   "display_name": "Python 3 (ipykernel)",
   "language": "python",
   "name": "python3"
  },
  "language_info": {
   "codemirror_mode": {
    "name": "ipython",
    "version": 3
   },
   "file_extension": ".py",
   "mimetype": "text/x-python",
   "name": "python",
   "nbconvert_exporter": "python",
   "pygments_lexer": "ipython3",
   "version": "3.12.1"
  }
 },
 "nbformat": 4,
 "nbformat_minor": 4
}
