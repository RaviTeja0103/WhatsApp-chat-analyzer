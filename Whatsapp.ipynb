{
 "cells": [
  {
   "cell_type": "markdown",
   "metadata": {},
   "source": [
    "# Modules"
   ]
  },
  {
   "cell_type": "code",
   "execution_count": null,
   "metadata": {},
   "outputs": [],
   "source": [
    "import re\n",
    "import pandas as pd\n",
    "import matplotlib.pyplot as plt\n",
    "import emojis"
   ]
  },
  {
   "cell_type": "markdown",
   "metadata": {},
   "source": [
    "# Preprocessing"
   ]
  },
  {
   "cell_type": "code",
   "execution_count": null,
   "metadata": {},
   "outputs": [],
   "source": [
    "def istime(s):\n",
    "    pattern = '^([0-9]+)/([0-9]+)/([0-9]+), ([0-9]+):([0-9]+)[ ]?' \n",
    "    result = re.match(pattern, s)\n",
    "    if result:\n",
    "        return True\n",
    "    return False\n",
    "\n",
    "def isNotif(m):\n",
    "    if len(m.split(\": \")) >=2:\n",
    "        return True\n",
    "    return False\n",
    "\n",
    "def get_slice_data(s):\n",
    "    Line = s.split(' - ') \n",
    "    dateTime = Line[0]\n",
    "    date, time = dateTime.split(', ') \n",
    "    message = ' '.join(Line[1:])\n",
    "    if isNotif(message):\n",
    "        splitMessage = message.split(':') \n",
    "        name = splitMessage[0] \n",
    "        message = ' '.join(splitMessage[1:])\n",
    "    else:\n",
    "        name = \"Notifications\"\n",
    "        \n",
    "\n",
    "    return date, time, name, message\n"
   ]
  },
  {
   "cell_type": "code",
   "execution_count": null,
   "metadata": {},
   "outputs": [],
   "source": [
    "raw_data = open(\"test.txt\",\"r\")\n",
    "raw_data = raw_data.read().replace(\"\\u202f\", \" \").split(\"\\n\")\n",
    "\n",
    "lindata= []\n",
    "buff = \"\"\n",
    "\n",
    "for lin in raw_data:\n",
    "    if istime(lin):\n",
    "        lindata.append(buff)\n",
    "        buff = \"\"\n",
    "    buff += lin\n",
    "    #print(istime(lin))\n",
    "\n",
    "lindata = lindata[1:]\n",
    "#lindata"
   ]
  },
  {
   "cell_type": "code",
   "execution_count": 140,
   "metadata": {},
   "outputs": [
    {
     "data": {
      "text/html": [
       "<div>\n",
       "<style scoped>\n",
       "    .dataframe tbody tr th:only-of-type {\n",
       "        vertical-align: middle;\n",
       "    }\n",
       "\n",
       "    .dataframe tbody tr th {\n",
       "        vertical-align: top;\n",
       "    }\n",
       "\n",
       "    .dataframe thead th {\n",
       "        text-align: right;\n",
       "    }\n",
       "</style>\n",
       "<table border=\"1\" class=\"dataframe\">\n",
       "  <thead>\n",
       "    <tr style=\"text-align: right;\">\n",
       "      <th></th>\n",
       "      <th>Date</th>\n",
       "      <th>Time</th>\n",
       "      <th>Name</th>\n",
       "      <th>Message</th>\n",
       "    </tr>\n",
       "  </thead>\n",
       "  <tbody>\n",
       "    <tr>\n",
       "      <th>100</th>\n",
       "      <td>10/10/22</td>\n",
       "      <td>7:34 pm</td>\n",
       "      <td>Teja</td>\n",
       "      <td>https //eeho.fa.us2.oraclecloud.com/hcmUI/Can...</td>\n",
       "    </tr>\n",
       "    <tr>\n",
       "      <th>101</th>\n",
       "      <td>12/10/22</td>\n",
       "      <td>12:18 pm</td>\n",
       "      <td>Teja</td>\n",
       "      <td>&lt;Media omitted&gt;</td>\n",
       "    </tr>\n",
       "    <tr>\n",
       "      <th>102</th>\n",
       "      <td>12/10/22</td>\n",
       "      <td>12:20 pm</td>\n",
       "      <td>Ravi Teja</td>\n",
       "      <td>Syllabus aq?</td>\n",
       "    </tr>\n",
       "    <tr>\n",
       "      <th>103</th>\n",
       "      <td>12/10/22</td>\n",
       "      <td>12:56 pm</td>\n",
       "      <td>Teja</td>\n",
       "      <td>Yes</td>\n",
       "    </tr>\n",
       "    <tr>\n",
       "      <th>104</th>\n",
       "      <td>12/10/22</td>\n",
       "      <td>3:39 pm</td>\n",
       "      <td>Teja</td>\n",
       "      <td>https //youtube.com/shorts/gV6CCD95-X8?featur...</td>\n",
       "    </tr>\n",
       "    <tr>\n",
       "      <th>...</th>\n",
       "      <td>...</td>\n",
       "      <td>...</td>\n",
       "      <td>...</td>\n",
       "      <td>...</td>\n",
       "    </tr>\n",
       "    <tr>\n",
       "      <th>195</th>\n",
       "      <td>04/11/22</td>\n",
       "      <td>8:25 am</td>\n",
       "      <td>Abhay</td>\n",
       "      <td>&lt;Media omitted&gt;</td>\n",
       "    </tr>\n",
       "    <tr>\n",
       "      <th>196</th>\n",
       "      <td>04/11/22</td>\n",
       "      <td>9:35 am</td>\n",
       "      <td>Vamsi</td>\n",
       "      <td>https //5movierulz.cm/brahmastram-part-one-sh...</td>\n",
       "    </tr>\n",
       "    <tr>\n",
       "      <th>197</th>\n",
       "      <td>05/11/22</td>\n",
       "      <td>9:14 am</td>\n",
       "      <td>Ravi Teja</td>\n",
       "      <td>11th wakanda forever</td>\n",
       "    </tr>\n",
       "    <tr>\n",
       "      <th>198</th>\n",
       "      <td>05/11/22</td>\n",
       "      <td>9:46 am</td>\n",
       "      <td>Teja</td>\n",
       "      <td>I am in..</td>\n",
       "    </tr>\n",
       "    <tr>\n",
       "      <th>199</th>\n",
       "      <td>08/11/22</td>\n",
       "      <td>8:30 pm</td>\n",
       "      <td>Abhay</td>\n",
       "      <td>https //www.placement-officer.com/2022/10/tcs...</td>\n",
       "    </tr>\n",
       "  </tbody>\n",
       "</table>\n",
       "<p>100 rows × 4 columns</p>\n",
       "</div>"
      ],
      "text/plain": [
       "         Date      Time       Name  \\\n",
       "100  10/10/22   7:34 pm       Teja   \n",
       "101  12/10/22  12:18 pm       Teja   \n",
       "102  12/10/22  12:20 pm  Ravi Teja   \n",
       "103  12/10/22  12:56 pm       Teja   \n",
       "104  12/10/22   3:39 pm       Teja   \n",
       "..        ...       ...        ...   \n",
       "195  04/11/22   8:25 am      Abhay   \n",
       "196  04/11/22   9:35 am      Vamsi   \n",
       "197  05/11/22   9:14 am  Ravi Teja   \n",
       "198  05/11/22   9:46 am       Teja   \n",
       "199  08/11/22   8:30 pm      Abhay   \n",
       "\n",
       "                                               Message  \n",
       "100   https //eeho.fa.us2.oraclecloud.com/hcmUI/Can...  \n",
       "101                                    <Media omitted>  \n",
       "102                                       Syllabus aq?  \n",
       "103                                                Yes  \n",
       "104   https //youtube.com/shorts/gV6CCD95-X8?featur...  \n",
       "..                                                 ...  \n",
       "195                                    <Media omitted>  \n",
       "196   https //5movierulz.cm/brahmastram-part-one-sh...  \n",
       "197                               11th wakanda forever  \n",
       "198                                          I am in..  \n",
       "199   https //www.placement-officer.com/2022/10/tcs...  \n",
       "\n",
       "[100 rows x 4 columns]"
      ]
     },
     "execution_count": 140,
     "metadata": {},
     "output_type": "execute_result"
    }
   ],
   "source": [
    "data=dict()\n",
    "data[\"Date\"] = []\n",
    "data[\"Time\"] = []\n",
    "data[\"Name\"] = []\n",
    "data[\"Message\"] = []\n",
    "\n",
    "for lin in lindata:\n",
    "    date, time, name, message = get_slice_data(lin)\n",
    "    data[\"Date\"].append(date)\n",
    "    data[\"Time\"].append(time)\n",
    "    data[\"Name\"].append(name)\n",
    "    data[\"Message\"].append(message)\n",
    "#data\n",
    "df = pd.DataFrame(data,columns=['Date', 'Time', 'Name', 'Message'])\n",
    "df[100:200]\n",
    "    "
   ]
  },
  {
   "cell_type": "code",
   "execution_count": 144,
   "metadata": {},
   "outputs": [],
   "source": [
    "df[\"Date\"] = pd.to_datetime(df[\"Date\"])"
   ]
  },
  {
   "cell_type": "code",
   "execution_count": 142,
   "metadata": {},
   "outputs": [],
   "source": [
    "df['Time'] = pd.to_datetime(df['Time'], format='%I:%M %p').dt.time"
   ]
  },
  {
   "cell_type": "code",
   "execution_count": 143,
   "metadata": {},
   "outputs": [
    {
     "data": {
      "text/plain": [
       "['Abhay', 'praneeth', 'Ram Raj', 'Ravi Varma', 'Vamsi', 'Ravi Teja', 'Teja']"
      ]
     },
     "execution_count": 143,
     "metadata": {},
     "output_type": "execute_result"
    }
   ],
   "source": [
    "people = list(set(data[\"Name\"]))\n",
    "people.pop(people.index(\"Notifications\"))\n",
    "people"
   ]
  },
  {
   "cell_type": "code",
   "execution_count": null,
   "metadata": {},
   "outputs": [],
   "source": [
    "x=people\n",
    "y=[]\n",
    "for i in x:\n",
    "    y.append(df[df[\"Name\"] == i].shape[0])\n"
   ]
  },
  {
   "cell_type": "code",
   "execution_count": null,
   "metadata": {},
   "outputs": [],
   "source": [
    "def show_graphs(x,y):\n",
    "    fig, (ax1, ax2) = plt.subplots(1, 2, figsize=(12, 6))\n",
    "\n",
    "    ax1.pie(y, labels=x, autopct='%1.1f%%', startangle=90)\n",
    "    ax1.set_title('Pie Chart')\n",
    "\n",
    "    ax2.bar(x, y, color=['blue', 'green', 'red', 'purple'])\n",
    "    ax2.set_title('Bar Chart')\n",
    "\n",
    "    plt.tight_layout()\n",
    "    plt.show()\n"
   ]
  },
  {
   "cell_type": "code",
   "execution_count": null,
   "metadata": {},
   "outputs": [],
   "source": [
    "show_graphs(x,y)"
   ]
  },
  {
   "cell_type": "code",
   "execution_count": null,
   "metadata": {},
   "outputs": [],
   "source": [
    "media_count = dict()\n",
    "media_raw = list(df[df[\"Message\"]==\" <Media omitted>\"][\"Name\"])\n",
    "for i in people:\n",
    "    media_count[i]=media_raw.count(i)\n",
    "media_count"
   ]
  },
  {
   "cell_type": "code",
   "execution_count": 88,
   "metadata": {},
   "outputs": [
    {
     "data": {
      "image/png": "[encoded data removed]",
      "text/plain": [
       "<Figure size 1200x600 with 2 Axes>"
      ]
     },
     "metadata": {},
     "output_type": "display_data"
    }
   ],
   "source": [
    "show_graphs(media_count.keys(),media_count.values())"
   ]
  },
  {
   "cell_type": "code",
   "execution_count": 183,
   "metadata": {},
   "outputs": [
    {
     "data": {
      "text/plain": [
       "0       Notifications\n",
       "1       Notifications\n",
       "2       Notifications\n",
       "3       Notifications\n",
       "4       Notifications\n",
       "            ...      \n",
       "3105          Ram Raj\n",
       "3106            Abhay\n",
       "3126            Abhay\n",
       "3139            Abhay\n",
       "3143             Teja\n",
       "Name: Name, Length: 729, dtype: object"
      ]
     },
     "execution_count": 183,
     "metadata": {},
     "output_type": "execute_result"
    }
   ],
   "source": [
    "time_msg_count = dict()\n",
    "media_raw = list(df[df[\"Message\"]==\" <Media omitted>\"][\"Name\"])\n",
    "for i in people:\n",
    "    media_count[i]=media_raw.count(i)\n",
    "media_count\n",
    "\n",
    "df[(df[\"Time\"] > pd.to_datetime(\"9:00 pm\").time()) & (df[\"Time\"] < pd.to_datetime(\"10:00 pm\").time())][\"Name\"]"
   ]
  },
  {
   "cell_type": "code",
   "execution_count": 89,
   "metadata": {},
   "outputs": [
    {
     "data": {
      "text/html": [
       "<div>\n",
       "<style scoped>\n",
       "    .dataframe tbody tr th:only-of-type {\n",
       "        vertical-align: middle;\n",
       "    }\n",
       "\n",
       "    .dataframe tbody tr th {\n",
       "        vertical-align: top;\n",
       "    }\n",
       "\n",
       "    .dataframe thead th {\n",
       "        text-align: right;\n",
       "    }\n",
       "</style>\n",
       "<table border=\"1\" class=\"dataframe\">\n",
       "  <thead>\n",
       "    <tr style=\"text-align: right;\">\n",
       "      <th></th>\n",
       "      <th>Date</th>\n",
       "      <th>Time</th>\n",
       "      <th>Name</th>\n",
       "      <th>Message</th>\n",
       "    </tr>\n",
       "  </thead>\n",
       "  <tbody>\n",
       "    <tr>\n",
       "      <th>0</th>\n",
       "      <td>2022-08-21</td>\n",
       "      <td>9:23 pm</td>\n",
       "      <td>Notifications</td>\n",
       "      <td>Messages and calls are end-to-end encrypted. N...</td>\n",
       "    </tr>\n",
       "    <tr>\n",
       "      <th>1</th>\n",
       "      <td>2022-08-21</td>\n",
       "      <td>9:23 pm</td>\n",
       "      <td>Notifications</td>\n",
       "      <td>Abhay created group \"Name mere decide cheyandi\"</td>\n",
       "    </tr>\n",
       "    <tr>\n",
       "      <th>2</th>\n",
       "      <td>2022-08-21</td>\n",
       "      <td>9:23 pm</td>\n",
       "      <td>Notifications</td>\n",
       "      <td>Abhay added you</td>\n",
       "    </tr>\n",
       "    <tr>\n",
       "      <th>3</th>\n",
       "      <td>2022-08-21</td>\n",
       "      <td>9:23 pm</td>\n",
       "      <td>Notifications</td>\n",
       "      <td>You're now an admin</td>\n",
       "    </tr>\n",
       "    <tr>\n",
       "      <th>4</th>\n",
       "      <td>2022-08-21</td>\n",
       "      <td>9:28 pm</td>\n",
       "      <td>Notifications</td>\n",
       "      <td>Vamsi changed the group name from \"Name mere d...</td>\n",
       "    </tr>\n",
       "    <tr>\n",
       "      <th>...</th>\n",
       "      <td>...</td>\n",
       "      <td>...</td>\n",
       "      <td>...</td>\n",
       "      <td>...</td>\n",
       "    </tr>\n",
       "    <tr>\n",
       "      <th>3148</th>\n",
       "      <td>2024-09-14</td>\n",
       "      <td>3:06 pm</td>\n",
       "      <td>Ram Raj</td>\n",
       "      <td>Game??</td>\n",
       "    </tr>\n",
       "    <tr>\n",
       "      <th>3149</th>\n",
       "      <td>2024-09-14</td>\n",
       "      <td>8:55 pm</td>\n",
       "      <td>Abhay</td>\n",
       "      <td>Game</td>\n",
       "    </tr>\n",
       "    <tr>\n",
       "      <th>3150</th>\n",
       "      <td>2024-09-15</td>\n",
       "      <td>1:38 pm</td>\n",
       "      <td>Abhay</td>\n",
       "      <td>Game</td>\n",
       "    </tr>\n",
       "    <tr>\n",
       "      <th>3151</th>\n",
       "      <td>2024-09-15</td>\n",
       "      <td>2:20 pm</td>\n",
       "      <td>Ram Raj</td>\n",
       "      <td>Playing?</td>\n",
       "    </tr>\n",
       "    <tr>\n",
       "      <th>3152</th>\n",
       "      <td>2024-09-15</td>\n",
       "      <td>2:23 pm</td>\n",
       "      <td>Abhay</td>\n",
       "      <td>Led aadte piluvu</td>\n",
       "    </tr>\n",
       "  </tbody>\n",
       "</table>\n",
       "<p>3153 rows × 4 columns</p>\n",
       "</div>"
      ],
      "text/plain": [
       "           Date     Time           Name  \\\n",
       "0    2022-08-21  9:23 pm  Notifications   \n",
       "1    2022-08-21  9:23 pm  Notifications   \n",
       "2    2022-08-21  9:23 pm  Notifications   \n",
       "3    2022-08-21  9:23 pm  Notifications   \n",
       "4    2022-08-21  9:28 pm  Notifications   \n",
       "...         ...      ...            ...   \n",
       "3148 2024-09-14  3:06 pm        Ram Raj   \n",
       "3149 2024-09-14  8:55 pm          Abhay   \n",
       "3150 2024-09-15  1:38 pm          Abhay   \n",
       "3151 2024-09-15  2:20 pm        Ram Raj   \n",
       "3152 2024-09-15  2:23 pm          Abhay   \n",
       "\n",
       "                                                Message  \n",
       "0     Messages and calls are end-to-end encrypted. N...  \n",
       "1       Abhay created group \"Name mere decide cheyandi\"  \n",
       "2                                       Abhay added you  \n",
       "3                                   You're now an admin  \n",
       "4     Vamsi changed the group name from \"Name mere d...  \n",
       "...                                                 ...  \n",
       "3148                                             Game??  \n",
       "3149                                               Game  \n",
       "3150                                               Game  \n",
       "3151                                           Playing?  \n",
       "3152                                   Led aadte piluvu  \n",
       "\n",
       "[3153 rows x 4 columns]"
      ]
     },
     "execution_count": 89,
     "metadata": {},
     "output_type": "execute_result"
    }
   ],
   "source": []
  },
  {
   "cell_type": "code",
   "execution_count": 161,
   "metadata": {},
   "outputs": [
    {
     "data": {
      "text/plain": [
       "datetime.time(21, 20)"
      ]
     },
     "execution_count": 161,
     "metadata": {},
     "output_type": "execute_result"
    }
   ],
   "source": [
    "pd.to_datetime(\"9:20 pm\").time()"
   ]
  },
  {
   "cell_type": "code",
   "execution_count": 159,
   "metadata": {},
   "outputs": [
    {
     "ename": "AttributeError",
     "evalue": "'list' object has no attribute 'time'",
     "output_type": "error",
     "traceback": [
      "\u001b[1;31m---------------------------------------------------------------------------\u001b[0m",
      "\u001b[1;31mAttributeError\u001b[0m                            Traceback (most recent call last)",
      "Cell \u001b[1;32mIn[159], line 1\u001b[0m\n\u001b[1;32m----> 1\u001b[0m \u001b[38;5;28;43mdir\u001b[39;49m\u001b[43m(\u001b[49m\u001b[43mdf\u001b[49m\u001b[43m[\u001b[49m\u001b[38;5;124;43m\"\u001b[39;49m\u001b[38;5;124;43mTime\u001b[39;49m\u001b[38;5;124;43m\"\u001b[39;49m\u001b[43m]\u001b[49m\u001b[43m)\u001b[49m\u001b[38;5;241;43m.\u001b[39;49m\u001b[43mtime\u001b[49m\n",
      "\u001b[1;31mAttributeError\u001b[0m: 'list' object has no attribute 'time'"
     ]
    }
   ],
   "source": [
    "dir(df[\"Time\"]).time"
   ]
  },
  {
   "cell_type": "code",
   "execution_count": null,
   "metadata": {},
   "outputs": [],
   "source": []
  }
 ],
 "metadata": {
  "kernelspec": {
   "display_name": "Python 3 (ipykernel)",
   "language": "python",
   "name": "python3"
  },
  "language_info": {
   "codemirror_mode": {
    "name": "ipython",
    "version": 3
   },
   "file_extension": ".py",
   "mimetype": "text/x-python",
   "name": "python",
   "nbconvert_exporter": "python",
   "pygments_lexer": "ipython3",
   "version": "3.12.1"
  }
 },
 "nbformat": 4,
 "nbformat_minor": 4
}
