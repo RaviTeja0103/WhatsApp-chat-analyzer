{
 "cells": [
  {
   "cell_type": "markdown",
   "metadata": {},
   "source": [
    "# Modules"
   ]
  },
  {
   "cell_type": "code",
   "execution_count": null,
   "metadata": {},
   "outputs": [],
   "source": [
    "import re\n",
    "import pandas as pd\n",
    "import matplotlib.pyplot as plt\n",
    "import emojis"
   ]
  },
  {
   "cell_type": "markdown",
   "metadata": {},
   "source": [
    "# Preprocessing"
   ]
  },
  {
   "cell_type": "code",
   "execution_count": null,
   "metadata": {},
   "outputs": [],
   "source": [
    "def istime(s):\n",
    "    pattern = '^([0-9]+)/([0-9]+)/([0-9]+), ([0-9]+):([0-9]+)[ ]?' \n",
    "    result = re.match(pattern, s)\n",
    "    if result:\n",
    "        return True\n",
    "    return False\n",
    "\n",
    "def isNotif(m):\n",
    "    if len(m.split(\": \")) >=2:\n",
    "        return True\n",
    "    return False\n",
    "\n",
    "def get_slice_data(s):\n",
    "    Line = s.split(' - ') \n",
    "    dateTime = Line[0]\n",
    "    date, time = dateTime.split(', ') \n",
    "    message = ' '.join(Line[1:])\n",
    "    if isNotif(message):\n",
    "        splitMessage = message.split(':') \n",
    "        name = splitMessage[0] \n",
    "        message = ' '.join(splitMessage[1:])\n",
    "    else:\n",
    "        name = \"Notifications\"\n",
    "        \n",
    "\n",
    "    return date, time, name, message\n"
   ]
  },
  {
   "cell_type": "code",
   "execution_count": null,
   "metadata": {},
   "outputs": [],
   "source": [
    "raw_data = open(\"test.txt\",\"r\")\n",
    "raw_data = raw_data.read().replace(\"\\u202f\", \" \").split(\"\\n\")\n",
    "\n",
    "lindata= []\n",
    "buff = \"\"\n",
    "\n",
    "for lin in raw_data:\n",
    "    if istime(lin):\n",
    "        lindata.append(buff)\n",
    "        buff = \"\"\n",
    "    buff += lin\n",
    "    #print(istime(lin))\n",
    "\n",
    "lindata = lindata[1:]\n",
    "#lindata"
   ]
  },
  {
   "cell_type": "code",
   "execution_count": null,
   "metadata": {},
   "outputs": [],
   "source": [
    "data=dict()\n",
    "data[\"Date\"] = []\n",
    "data[\"Time\"] = []\n",
    "data[\"Name\"] = []\n",
    "data[\"Message\"] = []\n",
    "\n",
    "for lin in lindata:\n",
    "    date, time, name, message = get_slice_data(lin)\n",
    "    data[\"Date\"].append(date)\n",
    "    data[\"Time\"].append(time)\n",
    "    data[\"Name\"].append(name)\n",
    "    data[\"Message\"].append(message)\n",
    "#data\n",
    "df = pd.DataFrame(data,columns=['Date', 'Time', 'Name', 'Message'])\n",
    "df[100:200]\n",
    "    "
   ]
  },
  {
   "cell_type": "code",
   "execution_count": null,
   "metadata": {},
   "outputs": [],
   "source": [
    "df[\"Date\"] = pd.to_datetime(df[\"Date\"])"
   ]
  },
  {
   "cell_type": "code",
   "execution_count": null,
   "metadata": {},
   "outputs": [],
   "source": [
    "df['Time'] = pd.to_datetime(df['Time'], format='%I:%M %p').dt.time"
   ]
  },
  {
   "cell_type": "code",
   "execution_count": null,
   "metadata": {},
   "outputs": [],
   "source": [
    "people = list(set(data[\"Name\"]))\n",
    "people.pop(people.index(\"Notifications\"))\n",
    "people"
   ]
  },
  {
   "cell_type": "code",
   "execution_count": null,
   "metadata": {},
   "outputs": [],
   "source": [
    "x=people\n",
    "y=[]\n",
    "for i in x:\n",
    "    y.append(df[df[\"Name\"] == i].shape[0])\n"
   ]
  },
  {
   "cell_type": "code",
   "execution_count": null,
   "metadata": {},
   "outputs": [],
   "source": [
    "def show_graphs(x,y):\n",
    "    fig, (ax1, ax2) = plt.subplots(1, 2, figsize=(12, 6))\n",
    "\n",
    "    ax1.pie(y, labels=x, autopct='%1.1f%%', startangle=90)\n",
    "    ax1.set_title('Pie Chart')\n",
    "\n",
    "    ax2.bar(x, y, color=['blue', 'green', 'red', 'purple'])\n",
    "    ax2.set_title('Bar Chart')\n",
    "\n",
    "    plt.tight_layout()\n",
    "    plt.show()\n"
   ]
  },
  {
   "cell_type": "code",
   "execution_count": null,
   "metadata": {},
   "outputs": [],
   "source": [
    "show_graphs(x,y)"
   ]
  },
  {
   "cell_type": "code",
   "execution_count": null,
   "metadata": {},
   "outputs": [],
   "source": [
    "media_count = dict()\n",
    "media_raw = list(df[df[\"Message\"]==\" <Media omitted>\"][\"Name\"])\n",
    "for i in people:\n",
    "    media_count[i]=media_raw.count(i)\n",
    "media_count"
   ]
  },
  {
   "cell_type": "code",
   "execution_count": null,
   "metadata": {},
   "outputs": [],
   "source": [
    "show_graphs(media_count.keys(),media_count.values())"
   ]
  },
  {
   "cell_type": "code",
   "execution_count": null,
   "metadata": {},
   "outputs": [],
   "source": [
    "word_dict = dict()\n",
    "for i in df[\"Message\"]:\n",
    "    for j in i.split(\" \"):\n",
    "        if j in word_dict:\n",
    "            word_dict[j] = word_dict[j] +1\n",
    "        else:\n",
    "            word_dict[j] = 1;\n",
    "sorted_word_dict = sorted(word_dict,key = word_dict.get, reverse=True)\n",
    "sorted_word_dict"
   ]
  },
  {
   "cell_type": "code",
   "execution_count": null,
   "metadata": {},
   "outputs": [],
   "source": [
    "sorted_word_dict\n",
    "sorted_word_dict.remove('')\n",
    "sorted_word_dict.remove('<Media')\n",
    "sorted_word_dict.remove('omitted>')"
   ]
  },
  {
   "cell_type": "code",
   "execution_count": null,
   "metadata": {},
   "outputs": [],
   "source": [
    "x=[]\n",
    "y=[]\n",
    "for i in sorted_word_dict[:10]:\n",
    "    x.append(i)\n",
    "    y.append(word_dict[i])\n"
   ]
  },
  {
   "cell_type": "code",
   "execution_count": null,
   "metadata": {},
   "outputs": [],
   "source": [
    "show_graphs(x,y)"
   ]
  },
  {
   "cell_type": "code",
   "execution_count": null,
   "metadata": {},
   "outputs": [],
   "source": []
  },
  {
   "cell_type": "code",
   "execution_count": null,
   "metadata": {},
   "outputs": [],
   "source": []
  }
 ],
 "metadata": {
  "kernelspec": {
   "display_name": "Python 3 (ipykernel)",
   "language": "python",
   "name": "python3"
  },
  "language_info": {
   "codemirror_mode": {
    "name": "ipython",
    "version": 3
   },
   "file_extension": ".py",
   "mimetype": "text/x-python",
   "name": "python",
   "nbconvert_exporter": "python",
   "pygments_lexer": "ipython3",
   "version": "3.12.1"
  }
 },
 "nbformat": 4,
 "nbformat_minor": 4
}
